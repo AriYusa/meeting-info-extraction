{
  "nbformat": 4,
  "nbformat_minor": 0,
  "metadata": {
    "colab": {
      "name": "Практика Loading dataset.ipynb",
      "provenance": [],
      "collapsed_sections": [],
      "authorship_tag": "ABX9TyNMG36/vfD8NzWqpVVp2GUy",
      "include_colab_link": true
    },
    "kernelspec": {
      "name": "python3",
      "display_name": "Python 3"
    },
    "language_info": {
      "name": "python"
    }
  },
  "cells": [
    {
      "cell_type": "markdown",
      "metadata": {
        "id": "view-in-github",
        "colab_type": "text"
      },
      "source": [
        "<a href=\"https://colab.research.google.com/github/AriYusa/meeting-info-extraction/blob/main/Meeting%20extraction.ipynb\" target=\"_parent\"><img src=\"https://colab.research.google.com/assets/colab-badge.svg\" alt=\"Open In Colab\"/></a>"
      ]
    },
    {
      "cell_type": "markdown",
      "source": [
        "# Извлечение информации о встрече"
      ],
      "metadata": {
        "id": "fEA9w5Nxa1eF"
      }
    },
    {
      "cell_type": "markdown",
      "source": [
        "### Импорт необходимых библиотек"
      ],
      "metadata": {
        "id": "6ee2RjcIa-uV"
      }
    },
    {
      "cell_type": "code",
      "source": [
        "import json\n",
        "import logging\n",
        "import sys\n",
        "import csv\n",
        "import re\n",
        "import random\n",
        "\n",
        "import pandas as pd\n",
        "import numpy as np\n",
        "\n",
        "import spacy\n",
        "from spacy.tokens import DocBin\n",
        "from spacy.util import filter_spans\n",
        "from spacy import displacy\n"
      ],
      "metadata": {
        "id": "mkPqy-5b46b5"
      },
      "execution_count": 409,
      "outputs": []
    },
    {
      "cell_type": "markdown",
      "source": [
        "# Подготовка данных"
      ],
      "metadata": {
        "id": "Kc9JlSWtbkbk"
      }
    },
    {
      "cell_type": "code",
      "source": [
        "# предложения считываются и записываюся в список\n",
        "train_dataset=[]\n",
        "with open(\"raw_dataset.csv\", \"r\") as f:\n",
        "    reader = csv.reader(f, delimiter=';')\n",
        "    headers = next(reader, None) \n",
        "    for row in reader:\n",
        "      train_dataset.append(row[0])"
      ],
      "metadata": {
        "id": "u16szYWZ5lHb"
      },
      "execution_count": 410,
      "outputs": []
    },
    {
      "cell_type": "code",
      "source": [
        "# предложения разбиваются на токены и записываются в формате, удобном для разметки\n",
        "dataset=[]\n",
        "for i,text in enumerate(train_dataset):\n",
        "  words = text.split()\n",
        "  for word in words:\n",
        "    dataset.append([i, word])\n",
        "\n",
        "with open(\"output2.csv\", \"w\") as f:\n",
        "    writer = csv.writer(f)\n",
        "    writer.writerow([\"Sentence#\", \"word\"])\n",
        "    writer.writerows(dataset)"
      ],
      "metadata": {
        "id": "iySeACY25qCj"
      },
      "execution_count": 411,
      "outputs": []
    },
    {
      "cell_type": "code",
      "execution_count": 412,
      "metadata": {
        "id": "QASb8R87IPLJ"
      },
      "outputs": [],
      "source": [
        "# Конвертируем размеченный даиасет в формат, подходящий для spacy\n",
        "def csv_to_json_format(input_path):\n",
        "        f=open(input_path,'r') # input file\n",
        "        reader = csv.reader(f, delimiter=';')\n",
        "        headers = next(reader, None)\n",
        "        #fp=open(output_path, 'w') # output file\n",
        "        \n",
        "        data_dict={}\n",
        "        train_data = []\n",
        "        prev_sent_i = 0\n",
        "        current = 0\n",
        "        sentence = ''\n",
        "        entities=[]\n",
        "        prev_label = 'O'\n",
        "        label_end, label_start = 0, 0\n",
        "\n",
        "        for line in reader:\n",
        "\n",
        "          sent_i, word, label = line\n",
        "          sent_i = int(sent_i)\n",
        "          if sent_i != prev_sent_i:\n",
        "\n",
        "            if (prev_label != 'O'):\n",
        "              label_end = current-2\n",
        "              entities.append((label_start, label_end, prev_label))\n",
        "\n",
        "            train_data.append((sentence[:-1],entities))\n",
        "\n",
        "            current = 0\n",
        "            sentence = ''\n",
        "            entities=[]\n",
        "            prev_label = 'O'\n",
        "            label_end, label_start = 0, 0\n",
        "\n",
        "          if (label != prev_label):\n",
        "            if (prev_label != 'O'):\n",
        "              label_end = current-1\n",
        "              entities.append((label_start, label_end, prev_label))\n",
        "            label_start = current\n",
        "              \n",
        "          sentence += word + ' '\n",
        "          current += len(word) + 1\n",
        "          prev_label = label\n",
        "          prev_sent_i = sent_i\n",
        "\n",
        "\n",
        "        if (prev_label != 'O'):\n",
        "          label_end = current-2\n",
        "          entities.append((label_start, label_end, prev_label))\n",
        "\n",
        "        train_data.append((sentence[:-1],entities))\n",
        "\n",
        "        return train_data"
      ]
    },
    {
      "cell_type": "code",
      "source": [
        "nlp = spacy.load('en_core_web_sm')\n",
        "training_data = csv_to_json_format(\"/content/labeled_dataset.csv\")"
      ],
      "metadata": {
        "id": "uWgROi85If7u"
      },
      "execution_count": 413,
      "outputs": []
    },
    {
      "cell_type": "code",
      "source": [
        "ents=[]\n",
        "\n",
        "# the DocBin will store the example documents\n",
        "db = DocBin()\n",
        "for text, annotations in training_data:\n",
        "    doc = nlp(text)\n",
        "    doc.spans[\"sc\"] = []\n",
        "    ents=[]\n",
        "    for start, end, label in annotations:\n",
        "        span = doc.char_span(start, end, label=label, alignment_mode = \"contract\")\n",
        "        doc.spans[\"sc\"].append(span)\n",
        "        ents.append(span)\n",
        "    filtered = filter_spans(ents)\n",
        "    doc.ents = filtered\n",
        "    db.add(doc)\n",
        "db.to_disk(\"./train.spacy\")"
      ],
      "metadata": {
        "id": "4OzLM5YQxAlD"
      },
      "execution_count": 414,
      "outputs": []
    },
    {
      "cell_type": "code",
      "source": [
        "# теперь можно увидеть разметку\n",
        "displacy.render(doc, style=\"span\", jupyter=True)"
      ],
      "metadata": {
        "colab": {
          "base_uri": "https://localhost:8080/",
          "height": 55
        },
        "id": "qnJy4FzvlgLr",
        "outputId": "d8763b4f-3ad1-4121-b43d-7ae076475b2a"
      },
      "execution_count": 415,
      "outputs": [
        {
          "output_type": "display_data",
          "data": {
            "text/plain": [
              "<IPython.core.display.HTML object>"
            ],
            "text/html": [
              "<span class=\"tex2jax_ignore\"><div class=\"spans\" style=\"line-height: 2.5; direction: ltr\">\n",
              "<span style=\"font-weight: bold; display: inline-block; position: relative;\">\n",
              "    Once\n",
              "    \n",
              "<span style=\"background: #bfe1d9; top: 40px; height: 4px; left: -1px; width: calc(100% + 2px); position: absolute;\">\n",
              "</span>\n",
              "\n",
              "    \n",
              "<span style=\"background: #bfe1d9; top: 40px; height: 4px; border-top-left-radius: 3px; border-bottom-left-radius: 3px; left: -1px; width: calc(100% + 2px); position: absolute;\">\n",
              "    <span style=\"background: #bfe1d9; z-index: 10; color: #000; top: -0.5em; padding: 2px 3px; position: absolute; font-size: 0.6em; font-weight: bold; line-height: 1; border-radius: 3px\">\n",
              "        TIME\n",
              "    </span>\n",
              "</span>\n",
              "\n",
              "\n",
              "</span>\n",
              "\n",
              "<span style=\"font-weight: bold; display: inline-block; position: relative;\">\n",
              "    a\n",
              "    \n",
              "<span style=\"background: #bfe1d9; top: 40px; height: 4px; left: -1px; width: calc(100% + 2px); position: absolute;\">\n",
              "</span>\n",
              "\n",
              "    \n",
              "</span>\n",
              "\n",
              "<span style=\"font-weight: bold; display: inline-block; position: relative;\">\n",
              "    year\n",
              "    \n",
              "<span style=\"background: #bfe1d9; top: 40px; height: 4px; left: -1px; width: calc(100% + 2px); position: absolute;\">\n",
              "</span>\n",
              "\n",
              "    \n",
              "</span>\n",
              "we all come together and celebrate our family . </div></span>"
            ]
          },
          "metadata": {}
        }
      ]
    },
    {
      "cell_type": "markdown",
      "source": [
        "## Вариант 1. Обучение NER"
      ],
      "metadata": {
        "id": "CBlVwGu1fZah"
      }
    },
    {
      "cell_type": "code",
      "source": [
        "# инициализируем конфирурацию обучаемой модели\n",
        "! python -m spacy init fill-config base_config.cfg config.cfg"
      ],
      "metadata": {
        "colab": {
          "base_uri": "https://localhost:8080/"
        },
        "id": "Hxq-A6Jiu0EW",
        "outputId": "b4443cea-3c58-495e-d5ba-570c9b984470"
      },
      "execution_count": 416,
      "outputs": [
        {
          "output_type": "stream",
          "name": "stdout",
          "text": [
            "\u001b[38;5;2m✔ Auto-filled config with all values\u001b[0m\n",
            "\u001b[38;5;2m✔ Saved config\u001b[0m\n",
            "config.cfg\n",
            "You can now add your data and train your pipeline:\n",
            "python -m spacy train config.cfg --paths.train ./train.spacy --paths.dev ./dev.spacy\n"
          ]
        }
      ]
    },
    {
      "cell_type": "code",
      "source": [
        "# обучаем модель\n",
        "! python -m spacy train config.cfg --output ./output --paths.train ./train.spacy --paths.dev ./train.spacy"
      ],
      "metadata": {
        "id": "2usJTtI3vBOY",
        "colab": {
          "base_uri": "https://localhost:8080/"
        },
        "outputId": "e87ded72-44b3-4931-88ee-9e5028de8a55"
      },
      "execution_count": 417,
      "outputs": [
        {
          "output_type": "stream",
          "name": "stdout",
          "text": [
            "\u001b[38;5;2m✔ Created output directory: output\u001b[0m\n",
            "\u001b[38;5;4mℹ Saving to output directory: output\u001b[0m\n",
            "\u001b[38;5;4mℹ Using CPU\u001b[0m\n",
            "\u001b[1m\n",
            "=========================== Initializing pipeline ===========================\u001b[0m\n",
            "[2022-07-14 21:52:13,853] [INFO] Set up nlp object from config\n",
            "[2022-07-14 21:52:13,865] [INFO] Pipeline: ['tok2vec', 'ner']\n",
            "[2022-07-14 21:52:13,871] [INFO] Created vocabulary\n",
            "[2022-07-14 21:52:13,872] [INFO] Finished initializing nlp object\n",
            "[2022-07-14 21:52:14,184] [INFO] Initialized pipeline components: ['tok2vec', 'ner']\n",
            "\u001b[38;5;2m✔ Initialized pipeline\u001b[0m\n",
            "\u001b[1m\n",
            "============================= Training pipeline =============================\u001b[0m\n",
            "\u001b[38;5;4mℹ Pipeline: ['tok2vec', 'ner']\u001b[0m\n",
            "\u001b[38;5;4mℹ Initial learn rate: 0.001\u001b[0m\n",
            "E    #       LOSS TOK2VEC  LOSS NER  ENTS_F  ENTS_P  ENTS_R  SCORE \n",
            "---  ------  ------------  --------  ------  ------  ------  ------\n",
            "  0       0          0.00     47.20    0.00    0.00    0.00    0.00\n",
            " 13     200        212.80   2303.49   97.51   98.00   97.03    0.98\n",
            " 29     400         22.51     38.53  100.00  100.00  100.00    1.00\n",
            " 49     600         54.64     13.94  100.00  100.00  100.00    1.00\n",
            " 73     800         14.69      8.27  100.00  100.00  100.00    1.00\n",
            "103    1000         19.07      5.17  100.00  100.00  100.00    1.00\n",
            "140    1200        156.53     34.79  100.00  100.00  100.00    1.00\n",
            "185    1400         86.85     16.25  100.00  100.00  100.00    1.00\n",
            "238    1600        137.46     18.89  100.00  100.00  100.00    1.00\n",
            "304    1800        167.80     17.52  100.00  100.00  100.00    1.00\n",
            "381    2000        402.48     43.88  100.00  100.00  100.00    1.00\n",
            "\u001b[38;5;2m✔ Saved pipeline to output directory\u001b[0m\n",
            "output/model-last\n"
          ]
        }
      ]
    },
    {
      "cell_type": "code",
      "source": [
        "test_dataset = [\n",
        "                \"What about dinner at the Ginny's at 7pm?\",\n",
        "                \"Waiting for you in the school tomorrow!\",\n",
        "                \"I have scheduled a meeting of the auditors for 1:00-5:00 p.m., June 6, in conference room.\",\n",
        "                \"I’ll meet you by the main reception desk at 8.00\",\n",
        "                \"Why don’t we meet for lunch on Friday?\",\n",
        "                \"We arranged to meet outside the theatre.\",\n",
        "                \"We met when we were at college.\",\n",
        "                \"The two leaders are scheduled to meet again next month in a town near the border.\",\n",
        "                \"Fans began to gather outside the stadium three hours before the start of the match.\"\n",
        "]"
      ],
      "metadata": {
        "id": "SrUhDigg-eMa"
      },
      "execution_count": 418,
      "outputs": []
    },
    {
      "cell_type": "code",
      "source": [
        "nlp1 = spacy.load(R\"/content/output/model-best\") #load the best model"
      ],
      "metadata": {
        "id": "XYvR29njve32"
      },
      "execution_count": 419,
      "outputs": []
    },
    {
      "cell_type": "code",
      "source": [
        "# смотрим не результаты на тестовом датасете\n",
        "for text in test_dataset:\n",
        "  doc = nlp1(text) \n",
        "  spacy.displacy.render(doc, style=\"ent\", jupyter=True)"
      ],
      "metadata": {
        "colab": {
          "base_uri": "https://localhost:8080/",
          "height": 387
        },
        "id": "smFVX4Z4-0J3",
        "outputId": "471c0351-172d-43ae-d5f1-20ae1a77dd9f"
      },
      "execution_count": 420,
      "outputs": [
        {
          "output_type": "display_data",
          "data": {
            "text/plain": [
              "<IPython.core.display.HTML object>"
            ],
            "text/html": [
              "<span class=\"tex2jax_ignore\"><div class=\"entities\" style=\"line-height: 2.5; direction: ltr\">What about dinner at \n",
              "<mark class=\"entity\" style=\"background: #ff9561; padding: 0.45em 0.6em; margin: 0 0.25em; line-height: 1; border-radius: 0.35em;\">\n",
              "    the Ginny's at 7pm\n",
              "    <span style=\"font-size: 0.8em; font-weight: bold; line-height: 1; border-radius: 0.35em; vertical-align: middle; margin-left: 0.5rem\">LOC</span>\n",
              "</mark>\n",
              "?</div></span>"
            ]
          },
          "metadata": {}
        },
        {
          "output_type": "display_data",
          "data": {
            "text/plain": [
              "<IPython.core.display.HTML object>"
            ],
            "text/html": [
              "<span class=\"tex2jax_ignore\"><div class=\"entities\" style=\"line-height: 2.5; direction: ltr\">Waiting for you in \n",
              "<mark class=\"entity\" style=\"background: #ff9561; padding: 0.45em 0.6em; margin: 0 0.25em; line-height: 1; border-radius: 0.35em;\">\n",
              "    the school tomorrow!\n",
              "    <span style=\"font-size: 0.8em; font-weight: bold; line-height: 1; border-radius: 0.35em; vertical-align: middle; margin-left: 0.5rem\">LOC</span>\n",
              "</mark>\n",
              "</div></span>"
            ]
          },
          "metadata": {}
        },
        {
          "output_type": "display_data",
          "data": {
            "text/plain": [
              "<IPython.core.display.HTML object>"
            ],
            "text/html": [
              "<span class=\"tex2jax_ignore\"><div class=\"entities\" style=\"line-height: 2.5; direction: ltr\">I have scheduled a meeting of the auditors for 1:00-5:00 p.m., \n",
              "<mark class=\"entity\" style=\"background: #bfe1d9; padding: 0.45em 0.6em; margin: 0 0.25em; line-height: 1; border-radius: 0.35em;\">\n",
              "    June 6,\n",
              "    <span style=\"font-size: 0.8em; font-weight: bold; line-height: 1; border-radius: 0.35em; vertical-align: middle; margin-left: 0.5rem\">TIME</span>\n",
              "</mark>\n",
              " in \n",
              "<mark class=\"entity\" style=\"background: #ff9561; padding: 0.45em 0.6em; margin: 0 0.25em; line-height: 1; border-radius: 0.35em;\">\n",
              "    conference\n",
              "    <span style=\"font-size: 0.8em; font-weight: bold; line-height: 1; border-radius: 0.35em; vertical-align: middle; margin-left: 0.5rem\">LOC</span>\n",
              "</mark>\n",
              " room.</div></span>"
            ]
          },
          "metadata": {}
        },
        {
          "output_type": "stream",
          "name": "stderr",
          "text": [
            "/usr/local/lib/python3.7/dist-packages/spacy/displacy/__init__.py:205: UserWarning: [W006] No entities to visualize found in Doc object. If this is surprising to you, make sure the Doc was processed using a model that supports named entity recognition, and check the `doc.ents` property manually if necessary.\n",
            "  warnings.warn(Warnings.W006)\n"
          ]
        },
        {
          "output_type": "display_data",
          "data": {
            "text/plain": [
              "<IPython.core.display.HTML object>"
            ],
            "text/html": [
              "<span class=\"tex2jax_ignore\"><div class=\"entities\" style=\"line-height: 2.5; direction: ltr\">I’ll meet you by the main reception desk at 8.00</div></span>"
            ]
          },
          "metadata": {}
        },
        {
          "output_type": "display_data",
          "data": {
            "text/plain": [
              "<IPython.core.display.HTML object>"
            ],
            "text/html": [
              "<span class=\"tex2jax_ignore\"><div class=\"entities\" style=\"line-height: 2.5; direction: ltr\">Why don’t we meet for lunch on \n",
              "<mark class=\"entity\" style=\"background: #bfe1d9; padding: 0.45em 0.6em; margin: 0 0.25em; line-height: 1; border-radius: 0.35em;\">\n",
              "    Friday\n",
              "    <span style=\"font-size: 0.8em; font-weight: bold; line-height: 1; border-radius: 0.35em; vertical-align: middle; margin-left: 0.5rem\">TIME</span>\n",
              "</mark>\n",
              "?</div></span>"
            ]
          },
          "metadata": {}
        },
        {
          "output_type": "display_data",
          "data": {
            "text/plain": [
              "<IPython.core.display.HTML object>"
            ],
            "text/html": [
              "<span class=\"tex2jax_ignore\"><div class=\"entities\" style=\"line-height: 2.5; direction: ltr\">We arranged to meet outside the theatre.</div></span>"
            ]
          },
          "metadata": {}
        },
        {
          "output_type": "display_data",
          "data": {
            "text/plain": [
              "<IPython.core.display.HTML object>"
            ],
            "text/html": [
              "<span class=\"tex2jax_ignore\"><div class=\"entities\" style=\"line-height: 2.5; direction: ltr\">We met when we were at college.</div></span>"
            ]
          },
          "metadata": {}
        },
        {
          "output_type": "display_data",
          "data": {
            "text/plain": [
              "<IPython.core.display.HTML object>"
            ],
            "text/html": [
              "<span class=\"tex2jax_ignore\"><div class=\"entities\" style=\"line-height: 2.5; direction: ltr\">The two leaders are scheduled to meet again next month in a town near the border.</div></span>"
            ]
          },
          "metadata": {}
        },
        {
          "output_type": "display_data",
          "data": {
            "text/plain": [
              "<IPython.core.display.HTML object>"
            ],
            "text/html": [
              "<span class=\"tex2jax_ignore\"><div class=\"entities\" style=\"line-height: 2.5; direction: ltr\">Fans began to gather outside the stadium three hours before the start of the match.</div></span>"
            ]
          },
          "metadata": {}
        }
      ]
    },
    {
      "cell_type": "markdown",
      "source": [
        "Видно, что модель показала низкое качество: где-то выделила сущности частично, где-то совсем не распознала.\n",
        "\n",
        "Для высокого качества обученой необходимо намного больше данных."
      ],
      "metadata": {
        "id": "VbKCuyL_f3Be"
      }
    },
    {
      "cell_type": "markdown",
      "source": [
        "## Вариант 2. Rule-based"
      ],
      "metadata": {
        "id": "Cp6ZUvSKfwu8"
      }
    },
    {
      "cell_type": "code",
      "source": [
        "classic_nlp = spacy.load('en_core_web_sm')\n",
        "doc = classic_nlp(text) "
      ],
      "metadata": {
        "id": "EXG2-zjZJgBC"
      },
      "execution_count": 435,
      "outputs": []
    },
    {
      "cell_type": "markdown",
      "source": [
        "Посмотрим на встренную NER-модель в spacy. Видно, что и она тоже не всегда точно распознаёт сущности: например, `the stadium three hours` выделено как  `TIME`"
      ],
      "metadata": {
        "id": "bI3EsnuQhV6d"
      }
    },
    {
      "cell_type": "code",
      "source": [
        "for text in test_dataset:\n",
        "  doc = classic_nlp(text) \n",
        "  spacy.displacy.render(doc, style=\"ent\", jupyter=True)"
      ],
      "metadata": {
        "colab": {
          "base_uri": "https://localhost:8080/",
          "height": 387
        },
        "id": "9Ovg5iTzgBg1",
        "outputId": "3b9e751f-51f5-4a3d-b768-3a2df448bfc2"
      },
      "execution_count": 436,
      "outputs": [
        {
          "output_type": "display_data",
          "data": {
            "text/plain": [
              "<IPython.core.display.HTML object>"
            ],
            "text/html": [
              "<span class=\"tex2jax_ignore\"><div class=\"entities\" style=\"line-height: 2.5; direction: ltr\">What about dinner at the \n",
              "<mark class=\"entity\" style=\"background: #aa9cfc; padding: 0.45em 0.6em; margin: 0 0.25em; line-height: 1; border-radius: 0.35em;\">\n",
              "    Ginny\n",
              "    <span style=\"font-size: 0.8em; font-weight: bold; line-height: 1; border-radius: 0.35em; vertical-align: middle; margin-left: 0.5rem\">PERSON</span>\n",
              "</mark>\n",
              "'s at \n",
              "<mark class=\"entity\" style=\"background: #e4e7d2; padding: 0.45em 0.6em; margin: 0 0.25em; line-height: 1; border-radius: 0.35em;\">\n",
              "    7\n",
              "    <span style=\"font-size: 0.8em; font-weight: bold; line-height: 1; border-radius: 0.35em; vertical-align: middle; margin-left: 0.5rem\">CARDINAL</span>\n",
              "</mark>\n",
              "pm?</div></span>"
            ]
          },
          "metadata": {}
        },
        {
          "output_type": "display_data",
          "data": {
            "text/plain": [
              "<IPython.core.display.HTML object>"
            ],
            "text/html": [
              "<span class=\"tex2jax_ignore\"><div class=\"entities\" style=\"line-height: 2.5; direction: ltr\">Waiting for you in the school \n",
              "<mark class=\"entity\" style=\"background: #bfe1d9; padding: 0.45em 0.6em; margin: 0 0.25em; line-height: 1; border-radius: 0.35em;\">\n",
              "    tomorrow\n",
              "    <span style=\"font-size: 0.8em; font-weight: bold; line-height: 1; border-radius: 0.35em; vertical-align: middle; margin-left: 0.5rem\">DATE</span>\n",
              "</mark>\n",
              "!</div></span>"
            ]
          },
          "metadata": {}
        },
        {
          "output_type": "display_data",
          "data": {
            "text/plain": [
              "<IPython.core.display.HTML object>"
            ],
            "text/html": [
              "<span class=\"tex2jax_ignore\"><div class=\"entities\" style=\"line-height: 2.5; direction: ltr\">I have scheduled a meeting of the auditors for \n",
              "<mark class=\"entity\" style=\"background: #bfe1d9; padding: 0.45em 0.6em; margin: 0 0.25em; line-height: 1; border-radius: 0.35em;\">\n",
              "    1:00-5:00 p.m.\n",
              "    <span style=\"font-size: 0.8em; font-weight: bold; line-height: 1; border-radius: 0.35em; vertical-align: middle; margin-left: 0.5rem\">TIME</span>\n",
              "</mark>\n",
              ", \n",
              "<mark class=\"entity\" style=\"background: #bfe1d9; padding: 0.45em 0.6em; margin: 0 0.25em; line-height: 1; border-radius: 0.35em;\">\n",
              "    June 6\n",
              "    <span style=\"font-size: 0.8em; font-weight: bold; line-height: 1; border-radius: 0.35em; vertical-align: middle; margin-left: 0.5rem\">DATE</span>\n",
              "</mark>\n",
              ", in conference room.</div></span>"
            ]
          },
          "metadata": {}
        },
        {
          "output_type": "display_data",
          "data": {
            "text/plain": [
              "<IPython.core.display.HTML object>"
            ],
            "text/html": [
              "<span class=\"tex2jax_ignore\"><div class=\"entities\" style=\"line-height: 2.5; direction: ltr\">I’ll meet you by the main reception desk at \n",
              "<mark class=\"entity\" style=\"background: #e4e7d2; padding: 0.45em 0.6em; margin: 0 0.25em; line-height: 1; border-radius: 0.35em;\">\n",
              "    8.00\n",
              "    <span style=\"font-size: 0.8em; font-weight: bold; line-height: 1; border-radius: 0.35em; vertical-align: middle; margin-left: 0.5rem\">CARDINAL</span>\n",
              "</mark>\n",
              "</div></span>"
            ]
          },
          "metadata": {}
        },
        {
          "output_type": "display_data",
          "data": {
            "text/plain": [
              "<IPython.core.display.HTML object>"
            ],
            "text/html": [
              "<span class=\"tex2jax_ignore\"><div class=\"entities\" style=\"line-height: 2.5; direction: ltr\">Why don’t we meet for lunch on \n",
              "<mark class=\"entity\" style=\"background: #bfe1d9; padding: 0.45em 0.6em; margin: 0 0.25em; line-height: 1; border-radius: 0.35em;\">\n",
              "    Friday\n",
              "    <span style=\"font-size: 0.8em; font-weight: bold; line-height: 1; border-radius: 0.35em; vertical-align: middle; margin-left: 0.5rem\">DATE</span>\n",
              "</mark>\n",
              "?</div></span>"
            ]
          },
          "metadata": {}
        },
        {
          "output_type": "stream",
          "name": "stderr",
          "text": [
            "/usr/local/lib/python3.7/dist-packages/spacy/displacy/__init__.py:205: UserWarning: [W006] No entities to visualize found in Doc object. If this is surprising to you, make sure the Doc was processed using a model that supports named entity recognition, and check the `doc.ents` property manually if necessary.\n",
            "  warnings.warn(Warnings.W006)\n"
          ]
        },
        {
          "output_type": "display_data",
          "data": {
            "text/plain": [
              "<IPython.core.display.HTML object>"
            ],
            "text/html": [
              "<span class=\"tex2jax_ignore\"><div class=\"entities\" style=\"line-height: 2.5; direction: ltr\">We arranged to meet outside the theatre.</div></span>"
            ]
          },
          "metadata": {}
        },
        {
          "output_type": "display_data",
          "data": {
            "text/plain": [
              "<IPython.core.display.HTML object>"
            ],
            "text/html": [
              "<span class=\"tex2jax_ignore\"><div class=\"entities\" style=\"line-height: 2.5; direction: ltr\">We met when we were at college.</div></span>"
            ]
          },
          "metadata": {}
        },
        {
          "output_type": "display_data",
          "data": {
            "text/plain": [
              "<IPython.core.display.HTML object>"
            ],
            "text/html": [
              "<span class=\"tex2jax_ignore\"><div class=\"entities\" style=\"line-height: 2.5; direction: ltr\">The \n",
              "<mark class=\"entity\" style=\"background: #e4e7d2; padding: 0.45em 0.6em; margin: 0 0.25em; line-height: 1; border-radius: 0.35em;\">\n",
              "    two\n",
              "    <span style=\"font-size: 0.8em; font-weight: bold; line-height: 1; border-radius: 0.35em; vertical-align: middle; margin-left: 0.5rem\">CARDINAL</span>\n",
              "</mark>\n",
              " leaders are scheduled to meet again \n",
              "<mark class=\"entity\" style=\"background: #bfe1d9; padding: 0.45em 0.6em; margin: 0 0.25em; line-height: 1; border-radius: 0.35em;\">\n",
              "    next month\n",
              "    <span style=\"font-size: 0.8em; font-weight: bold; line-height: 1; border-radius: 0.35em; vertical-align: middle; margin-left: 0.5rem\">DATE</span>\n",
              "</mark>\n",
              " in a town near the border.</div></span>"
            ]
          },
          "metadata": {}
        },
        {
          "output_type": "display_data",
          "data": {
            "text/plain": [
              "<IPython.core.display.HTML object>"
            ],
            "text/html": [
              "<span class=\"tex2jax_ignore\"><div class=\"entities\" style=\"line-height: 2.5; direction: ltr\">Fans began to gather outside \n",
              "<mark class=\"entity\" style=\"background: #bfe1d9; padding: 0.45em 0.6em; margin: 0 0.25em; line-height: 1; border-radius: 0.35em;\">\n",
              "    the stadium three hours\n",
              "    <span style=\"font-size: 0.8em; font-weight: bold; line-height: 1; border-radius: 0.35em; vertical-align: middle; margin-left: 0.5rem\">TIME</span>\n",
              "</mark>\n",
              " before the start of the match.</div></span>"
            ]
          },
          "metadata": {}
        }
      ]
    },
    {
      "cell_type": "markdown",
      "source": [
        "Spacy умеет классифицировать и визуализировать зависимости между словами."
      ],
      "metadata": {
        "id": "OpuHhcqVh8Jx"
      }
    },
    {
      "cell_type": "code",
      "source": [
        "displacy.render(doc, style='dep', jupyter=True)"
      ],
      "metadata": {
        "colab": {
          "base_uri": "https://localhost:8080/",
          "height": 441
        },
        "id": "FYdTDSl1K8Q1",
        "outputId": "94b82fed-9611-40c0-ecec-272718046c08"
      },
      "execution_count": 437,
      "outputs": [
        {
          "output_type": "display_data",
          "data": {
            "text/plain": [
              "<IPython.core.display.HTML object>"
            ],
            "text/html": [
              "<span class=\"tex2jax_ignore\"><svg xmlns=\"http://www.w3.org/2000/svg\" xmlns:xlink=\"http://www.w3.org/1999/xlink\" xml:lang=\"en\" id=\"7bea317a12d6400bb19470836fe2408d-0\" class=\"displacy\" width=\"2675\" height=\"399.5\" direction=\"ltr\" style=\"max-width: none; height: 399.5px; color: #000000; background: #ffffff; font-family: Arial; direction: ltr\">\n",
              "<text class=\"displacy-token\" fill=\"currentColor\" text-anchor=\"middle\" y=\"309.5\">\n",
              "    <tspan class=\"displacy-word\" fill=\"currentColor\" x=\"50\">Fans</tspan>\n",
              "    <tspan class=\"displacy-tag\" dy=\"2em\" fill=\"currentColor\" x=\"50\">NOUN</tspan>\n",
              "</text>\n",
              "\n",
              "<text class=\"displacy-token\" fill=\"currentColor\" text-anchor=\"middle\" y=\"309.5\">\n",
              "    <tspan class=\"displacy-word\" fill=\"currentColor\" x=\"225\">began</tspan>\n",
              "    <tspan class=\"displacy-tag\" dy=\"2em\" fill=\"currentColor\" x=\"225\">VERB</tspan>\n",
              "</text>\n",
              "\n",
              "<text class=\"displacy-token\" fill=\"currentColor\" text-anchor=\"middle\" y=\"309.5\">\n",
              "    <tspan class=\"displacy-word\" fill=\"currentColor\" x=\"400\">to</tspan>\n",
              "    <tspan class=\"displacy-tag\" dy=\"2em\" fill=\"currentColor\" x=\"400\">PART</tspan>\n",
              "</text>\n",
              "\n",
              "<text class=\"displacy-token\" fill=\"currentColor\" text-anchor=\"middle\" y=\"309.5\">\n",
              "    <tspan class=\"displacy-word\" fill=\"currentColor\" x=\"575\">gather</tspan>\n",
              "    <tspan class=\"displacy-tag\" dy=\"2em\" fill=\"currentColor\" x=\"575\">VERB</tspan>\n",
              "</text>\n",
              "\n",
              "<text class=\"displacy-token\" fill=\"currentColor\" text-anchor=\"middle\" y=\"309.5\">\n",
              "    <tspan class=\"displacy-word\" fill=\"currentColor\" x=\"750\">outside</tspan>\n",
              "    <tspan class=\"displacy-tag\" dy=\"2em\" fill=\"currentColor\" x=\"750\">ADP</tspan>\n",
              "</text>\n",
              "\n",
              "<text class=\"displacy-token\" fill=\"currentColor\" text-anchor=\"middle\" y=\"309.5\">\n",
              "    <tspan class=\"displacy-word\" fill=\"currentColor\" x=\"925\">the</tspan>\n",
              "    <tspan class=\"displacy-tag\" dy=\"2em\" fill=\"currentColor\" x=\"925\">DET</tspan>\n",
              "</text>\n",
              "\n",
              "<text class=\"displacy-token\" fill=\"currentColor\" text-anchor=\"middle\" y=\"309.5\">\n",
              "    <tspan class=\"displacy-word\" fill=\"currentColor\" x=\"1100\">stadium</tspan>\n",
              "    <tspan class=\"displacy-tag\" dy=\"2em\" fill=\"currentColor\" x=\"1100\">NOUN</tspan>\n",
              "</text>\n",
              "\n",
              "<text class=\"displacy-token\" fill=\"currentColor\" text-anchor=\"middle\" y=\"309.5\">\n",
              "    <tspan class=\"displacy-word\" fill=\"currentColor\" x=\"1275\">three</tspan>\n",
              "    <tspan class=\"displacy-tag\" dy=\"2em\" fill=\"currentColor\" x=\"1275\">NUM</tspan>\n",
              "</text>\n",
              "\n",
              "<text class=\"displacy-token\" fill=\"currentColor\" text-anchor=\"middle\" y=\"309.5\">\n",
              "    <tspan class=\"displacy-word\" fill=\"currentColor\" x=\"1450\">hours</tspan>\n",
              "    <tspan class=\"displacy-tag\" dy=\"2em\" fill=\"currentColor\" x=\"1450\">NOUN</tspan>\n",
              "</text>\n",
              "\n",
              "<text class=\"displacy-token\" fill=\"currentColor\" text-anchor=\"middle\" y=\"309.5\">\n",
              "    <tspan class=\"displacy-word\" fill=\"currentColor\" x=\"1625\">before</tspan>\n",
              "    <tspan class=\"displacy-tag\" dy=\"2em\" fill=\"currentColor\" x=\"1625\">ADP</tspan>\n",
              "</text>\n",
              "\n",
              "<text class=\"displacy-token\" fill=\"currentColor\" text-anchor=\"middle\" y=\"309.5\">\n",
              "    <tspan class=\"displacy-word\" fill=\"currentColor\" x=\"1800\">the</tspan>\n",
              "    <tspan class=\"displacy-tag\" dy=\"2em\" fill=\"currentColor\" x=\"1800\">DET</tspan>\n",
              "</text>\n",
              "\n",
              "<text class=\"displacy-token\" fill=\"currentColor\" text-anchor=\"middle\" y=\"309.5\">\n",
              "    <tspan class=\"displacy-word\" fill=\"currentColor\" x=\"1975\">start</tspan>\n",
              "    <tspan class=\"displacy-tag\" dy=\"2em\" fill=\"currentColor\" x=\"1975\">NOUN</tspan>\n",
              "</text>\n",
              "\n",
              "<text class=\"displacy-token\" fill=\"currentColor\" text-anchor=\"middle\" y=\"309.5\">\n",
              "    <tspan class=\"displacy-word\" fill=\"currentColor\" x=\"2150\">of</tspan>\n",
              "    <tspan class=\"displacy-tag\" dy=\"2em\" fill=\"currentColor\" x=\"2150\">ADP</tspan>\n",
              "</text>\n",
              "\n",
              "<text class=\"displacy-token\" fill=\"currentColor\" text-anchor=\"middle\" y=\"309.5\">\n",
              "    <tspan class=\"displacy-word\" fill=\"currentColor\" x=\"2325\">the</tspan>\n",
              "    <tspan class=\"displacy-tag\" dy=\"2em\" fill=\"currentColor\" x=\"2325\">DET</tspan>\n",
              "</text>\n",
              "\n",
              "<text class=\"displacy-token\" fill=\"currentColor\" text-anchor=\"middle\" y=\"309.5\">\n",
              "    <tspan class=\"displacy-word\" fill=\"currentColor\" x=\"2500\">match.</tspan>\n",
              "    <tspan class=\"displacy-tag\" dy=\"2em\" fill=\"currentColor\" x=\"2500\">NOUN</tspan>\n",
              "</text>\n",
              "\n",
              "<g class=\"displacy-arrow\">\n",
              "    <path class=\"displacy-arc\" id=\"arrow-7bea317a12d6400bb19470836fe2408d-0-0\" stroke-width=\"2px\" d=\"M70,264.5 C70,177.0 215.0,177.0 215.0,264.5\" fill=\"none\" stroke=\"currentColor\"/>\n",
              "    <text dy=\"1.25em\" style=\"font-size: 0.8em; letter-spacing: 1px\">\n",
              "        <textPath xlink:href=\"#arrow-7bea317a12d6400bb19470836fe2408d-0-0\" class=\"displacy-label\" startOffset=\"50%\" side=\"left\" fill=\"currentColor\" text-anchor=\"middle\">nsubj</textPath>\n",
              "    </text>\n",
              "    <path class=\"displacy-arrowhead\" d=\"M70,266.5 L62,254.5 78,254.5\" fill=\"currentColor\"/>\n",
              "</g>\n",
              "\n",
              "<g class=\"displacy-arrow\">\n",
              "    <path class=\"displacy-arc\" id=\"arrow-7bea317a12d6400bb19470836fe2408d-0-1\" stroke-width=\"2px\" d=\"M420,264.5 C420,177.0 565.0,177.0 565.0,264.5\" fill=\"none\" stroke=\"currentColor\"/>\n",
              "    <text dy=\"1.25em\" style=\"font-size: 0.8em; letter-spacing: 1px\">\n",
              "        <textPath xlink:href=\"#arrow-7bea317a12d6400bb19470836fe2408d-0-1\" class=\"displacy-label\" startOffset=\"50%\" side=\"left\" fill=\"currentColor\" text-anchor=\"middle\">aux</textPath>\n",
              "    </text>\n",
              "    <path class=\"displacy-arrowhead\" d=\"M420,266.5 L412,254.5 428,254.5\" fill=\"currentColor\"/>\n",
              "</g>\n",
              "\n",
              "<g class=\"displacy-arrow\">\n",
              "    <path class=\"displacy-arc\" id=\"arrow-7bea317a12d6400bb19470836fe2408d-0-2\" stroke-width=\"2px\" d=\"M245,264.5 C245,89.5 570.0,89.5 570.0,264.5\" fill=\"none\" stroke=\"currentColor\"/>\n",
              "    <text dy=\"1.25em\" style=\"font-size: 0.8em; letter-spacing: 1px\">\n",
              "        <textPath xlink:href=\"#arrow-7bea317a12d6400bb19470836fe2408d-0-2\" class=\"displacy-label\" startOffset=\"50%\" side=\"left\" fill=\"currentColor\" text-anchor=\"middle\">xcomp</textPath>\n",
              "    </text>\n",
              "    <path class=\"displacy-arrowhead\" d=\"M570.0,266.5 L578.0,254.5 562.0,254.5\" fill=\"currentColor\"/>\n",
              "</g>\n",
              "\n",
              "<g class=\"displacy-arrow\">\n",
              "    <path class=\"displacy-arc\" id=\"arrow-7bea317a12d6400bb19470836fe2408d-0-3\" stroke-width=\"2px\" d=\"M595,264.5 C595,177.0 740.0,177.0 740.0,264.5\" fill=\"none\" stroke=\"currentColor\"/>\n",
              "    <text dy=\"1.25em\" style=\"font-size: 0.8em; letter-spacing: 1px\">\n",
              "        <textPath xlink:href=\"#arrow-7bea317a12d6400bb19470836fe2408d-0-3\" class=\"displacy-label\" startOffset=\"50%\" side=\"left\" fill=\"currentColor\" text-anchor=\"middle\">prep</textPath>\n",
              "    </text>\n",
              "    <path class=\"displacy-arrowhead\" d=\"M740.0,266.5 L748.0,254.5 732.0,254.5\" fill=\"currentColor\"/>\n",
              "</g>\n",
              "\n",
              "<g class=\"displacy-arrow\">\n",
              "    <path class=\"displacy-arc\" id=\"arrow-7bea317a12d6400bb19470836fe2408d-0-4\" stroke-width=\"2px\" d=\"M945,264.5 C945,177.0 1090.0,177.0 1090.0,264.5\" fill=\"none\" stroke=\"currentColor\"/>\n",
              "    <text dy=\"1.25em\" style=\"font-size: 0.8em; letter-spacing: 1px\">\n",
              "        <textPath xlink:href=\"#arrow-7bea317a12d6400bb19470836fe2408d-0-4\" class=\"displacy-label\" startOffset=\"50%\" side=\"left\" fill=\"currentColor\" text-anchor=\"middle\">det</textPath>\n",
              "    </text>\n",
              "    <path class=\"displacy-arrowhead\" d=\"M945,266.5 L937,254.5 953,254.5\" fill=\"currentColor\"/>\n",
              "</g>\n",
              "\n",
              "<g class=\"displacy-arrow\">\n",
              "    <path class=\"displacy-arc\" id=\"arrow-7bea317a12d6400bb19470836fe2408d-0-5\" stroke-width=\"2px\" d=\"M770,264.5 C770,89.5 1095.0,89.5 1095.0,264.5\" fill=\"none\" stroke=\"currentColor\"/>\n",
              "    <text dy=\"1.25em\" style=\"font-size: 0.8em; letter-spacing: 1px\">\n",
              "        <textPath xlink:href=\"#arrow-7bea317a12d6400bb19470836fe2408d-0-5\" class=\"displacy-label\" startOffset=\"50%\" side=\"left\" fill=\"currentColor\" text-anchor=\"middle\">pobj</textPath>\n",
              "    </text>\n",
              "    <path class=\"displacy-arrowhead\" d=\"M1095.0,266.5 L1103.0,254.5 1087.0,254.5\" fill=\"currentColor\"/>\n",
              "</g>\n",
              "\n",
              "<g class=\"displacy-arrow\">\n",
              "    <path class=\"displacy-arc\" id=\"arrow-7bea317a12d6400bb19470836fe2408d-0-6\" stroke-width=\"2px\" d=\"M1295,264.5 C1295,177.0 1440.0,177.0 1440.0,264.5\" fill=\"none\" stroke=\"currentColor\"/>\n",
              "    <text dy=\"1.25em\" style=\"font-size: 0.8em; letter-spacing: 1px\">\n",
              "        <textPath xlink:href=\"#arrow-7bea317a12d6400bb19470836fe2408d-0-6\" class=\"displacy-label\" startOffset=\"50%\" side=\"left\" fill=\"currentColor\" text-anchor=\"middle\">nummod</textPath>\n",
              "    </text>\n",
              "    <path class=\"displacy-arrowhead\" d=\"M1295,266.5 L1287,254.5 1303,254.5\" fill=\"currentColor\"/>\n",
              "</g>\n",
              "\n",
              "<g class=\"displacy-arrow\">\n",
              "    <path class=\"displacy-arc\" id=\"arrow-7bea317a12d6400bb19470836fe2408d-0-7\" stroke-width=\"2px\" d=\"M1470,264.5 C1470,177.0 1615.0,177.0 1615.0,264.5\" fill=\"none\" stroke=\"currentColor\"/>\n",
              "    <text dy=\"1.25em\" style=\"font-size: 0.8em; letter-spacing: 1px\">\n",
              "        <textPath xlink:href=\"#arrow-7bea317a12d6400bb19470836fe2408d-0-7\" class=\"displacy-label\" startOffset=\"50%\" side=\"left\" fill=\"currentColor\" text-anchor=\"middle\">npadvmod</textPath>\n",
              "    </text>\n",
              "    <path class=\"displacy-arrowhead\" d=\"M1470,266.5 L1462,254.5 1478,254.5\" fill=\"currentColor\"/>\n",
              "</g>\n",
              "\n",
              "<g class=\"displacy-arrow\">\n",
              "    <path class=\"displacy-arc\" id=\"arrow-7bea317a12d6400bb19470836fe2408d-0-8\" stroke-width=\"2px\" d=\"M595,264.5 C595,2.0 1625.0,2.0 1625.0,264.5\" fill=\"none\" stroke=\"currentColor\"/>\n",
              "    <text dy=\"1.25em\" style=\"font-size: 0.8em; letter-spacing: 1px\">\n",
              "        <textPath xlink:href=\"#arrow-7bea317a12d6400bb19470836fe2408d-0-8\" class=\"displacy-label\" startOffset=\"50%\" side=\"left\" fill=\"currentColor\" text-anchor=\"middle\">prep</textPath>\n",
              "    </text>\n",
              "    <path class=\"displacy-arrowhead\" d=\"M1625.0,266.5 L1633.0,254.5 1617.0,254.5\" fill=\"currentColor\"/>\n",
              "</g>\n",
              "\n",
              "<g class=\"displacy-arrow\">\n",
              "    <path class=\"displacy-arc\" id=\"arrow-7bea317a12d6400bb19470836fe2408d-0-9\" stroke-width=\"2px\" d=\"M1820,264.5 C1820,177.0 1965.0,177.0 1965.0,264.5\" fill=\"none\" stroke=\"currentColor\"/>\n",
              "    <text dy=\"1.25em\" style=\"font-size: 0.8em; letter-spacing: 1px\">\n",
              "        <textPath xlink:href=\"#arrow-7bea317a12d6400bb19470836fe2408d-0-9\" class=\"displacy-label\" startOffset=\"50%\" side=\"left\" fill=\"currentColor\" text-anchor=\"middle\">det</textPath>\n",
              "    </text>\n",
              "    <path class=\"displacy-arrowhead\" d=\"M1820,266.5 L1812,254.5 1828,254.5\" fill=\"currentColor\"/>\n",
              "</g>\n",
              "\n",
              "<g class=\"displacy-arrow\">\n",
              "    <path class=\"displacy-arc\" id=\"arrow-7bea317a12d6400bb19470836fe2408d-0-10\" stroke-width=\"2px\" d=\"M1645,264.5 C1645,89.5 1970.0,89.5 1970.0,264.5\" fill=\"none\" stroke=\"currentColor\"/>\n",
              "    <text dy=\"1.25em\" style=\"font-size: 0.8em; letter-spacing: 1px\">\n",
              "        <textPath xlink:href=\"#arrow-7bea317a12d6400bb19470836fe2408d-0-10\" class=\"displacy-label\" startOffset=\"50%\" side=\"left\" fill=\"currentColor\" text-anchor=\"middle\">pobj</textPath>\n",
              "    </text>\n",
              "    <path class=\"displacy-arrowhead\" d=\"M1970.0,266.5 L1978.0,254.5 1962.0,254.5\" fill=\"currentColor\"/>\n",
              "</g>\n",
              "\n",
              "<g class=\"displacy-arrow\">\n",
              "    <path class=\"displacy-arc\" id=\"arrow-7bea317a12d6400bb19470836fe2408d-0-11\" stroke-width=\"2px\" d=\"M1995,264.5 C1995,177.0 2140.0,177.0 2140.0,264.5\" fill=\"none\" stroke=\"currentColor\"/>\n",
              "    <text dy=\"1.25em\" style=\"font-size: 0.8em; letter-spacing: 1px\">\n",
              "        <textPath xlink:href=\"#arrow-7bea317a12d6400bb19470836fe2408d-0-11\" class=\"displacy-label\" startOffset=\"50%\" side=\"left\" fill=\"currentColor\" text-anchor=\"middle\">prep</textPath>\n",
              "    </text>\n",
              "    <path class=\"displacy-arrowhead\" d=\"M2140.0,266.5 L2148.0,254.5 2132.0,254.5\" fill=\"currentColor\"/>\n",
              "</g>\n",
              "\n",
              "<g class=\"displacy-arrow\">\n",
              "    <path class=\"displacy-arc\" id=\"arrow-7bea317a12d6400bb19470836fe2408d-0-12\" stroke-width=\"2px\" d=\"M2345,264.5 C2345,177.0 2490.0,177.0 2490.0,264.5\" fill=\"none\" stroke=\"currentColor\"/>\n",
              "    <text dy=\"1.25em\" style=\"font-size: 0.8em; letter-spacing: 1px\">\n",
              "        <textPath xlink:href=\"#arrow-7bea317a12d6400bb19470836fe2408d-0-12\" class=\"displacy-label\" startOffset=\"50%\" side=\"left\" fill=\"currentColor\" text-anchor=\"middle\">det</textPath>\n",
              "    </text>\n",
              "    <path class=\"displacy-arrowhead\" d=\"M2345,266.5 L2337,254.5 2353,254.5\" fill=\"currentColor\"/>\n",
              "</g>\n",
              "\n",
              "<g class=\"displacy-arrow\">\n",
              "    <path class=\"displacy-arc\" id=\"arrow-7bea317a12d6400bb19470836fe2408d-0-13\" stroke-width=\"2px\" d=\"M2170,264.5 C2170,89.5 2495.0,89.5 2495.0,264.5\" fill=\"none\" stroke=\"currentColor\"/>\n",
              "    <text dy=\"1.25em\" style=\"font-size: 0.8em; letter-spacing: 1px\">\n",
              "        <textPath xlink:href=\"#arrow-7bea317a12d6400bb19470836fe2408d-0-13\" class=\"displacy-label\" startOffset=\"50%\" side=\"left\" fill=\"currentColor\" text-anchor=\"middle\">pobj</textPath>\n",
              "    </text>\n",
              "    <path class=\"displacy-arrowhead\" d=\"M2495.0,266.5 L2503.0,254.5 2487.0,254.5\" fill=\"currentColor\"/>\n",
              "</g>\n",
              "</svg></span>"
            ]
          },
          "metadata": {}
        }
      ]
    },
    {
      "cell_type": "markdown",
      "source": [
        "Посмотрим, какие свойсва есть у токенов: с помощью заранее обученных моделей Spacy пожет предсказывать часть речи, роль в предложении, зависимые слова и т.д."
      ],
      "metadata": {
        "id": "znPvL7WeiGEi"
      }
    },
    {
      "cell_type": "code",
      "source": [
        "parse_tree = []\n",
        "\n",
        "for token in doc:\n",
        "    parse_tree.append([token.i, token.text, token.dep_, token.ent_type_, token.head.i, token.head.text, token.head.pos_, [child.i for child in token.children]])\n",
        "    \n",
        "df = pd.DataFrame(parse_tree, columns=['index','text','dep', 'ent', 'parent_index','parent','parent_pos', 'childrens_index'])"
      ],
      "metadata": {
        "id": "3NVfj2lzTwNr"
      },
      "execution_count": 438,
      "outputs": []
    },
    {
      "cell_type": "code",
      "source": [
        "df"
      ],
      "metadata": {
        "colab": {
          "base_uri": "https://localhost:8080/",
          "height": 551
        },
        "id": "BBOvF7wiaPqZ",
        "outputId": "df7bfa7c-33e0-4691-d51b-3a7e542c8333"
      },
      "execution_count": 439,
      "outputs": [
        {
          "output_type": "execute_result",
          "data": {
            "text/plain": [
              "    index     text       dep   ent  parent_index   parent parent_pos  \\\n",
              "0       0     Fans     nsubj                   1    began       VERB   \n",
              "1       1    began      ROOT                   1    began       VERB   \n",
              "2       2       to       aux                   3   gather       VERB   \n",
              "3       3   gather     xcomp                   1    began       VERB   \n",
              "4       4  outside      prep                   3   gather       VERB   \n",
              "5       5      the       det  TIME             6  stadium       NOUN   \n",
              "6       6  stadium      pobj  TIME             4  outside        ADP   \n",
              "7       7    three    nummod  TIME             8    hours       NOUN   \n",
              "8       8    hours  npadvmod  TIME             9   before        ADP   \n",
              "9       9   before      prep                   3   gather       VERB   \n",
              "10     10      the       det                  11    start       NOUN   \n",
              "11     11    start      pobj                   9   before        ADP   \n",
              "12     12       of      prep                  11    start       NOUN   \n",
              "13     13      the       det                  14    match       NOUN   \n",
              "14     14    match      pobj                  12       of        ADP   \n",
              "15     15        .     punct                   1    began       VERB   \n",
              "\n",
              "   childrens_index  \n",
              "0               []  \n",
              "1       [0, 3, 15]  \n",
              "2               []  \n",
              "3        [2, 4, 9]  \n",
              "4              [6]  \n",
              "5               []  \n",
              "6              [5]  \n",
              "7               []  \n",
              "8              [7]  \n",
              "9          [8, 11]  \n",
              "10              []  \n",
              "11        [10, 12]  \n",
              "12            [14]  \n",
              "13              []  \n",
              "14            [13]  \n",
              "15              []  "
            ],
            "text/html": [
              "\n",
              "  <div id=\"df-0b1dcb9e-b5fe-460d-a714-d666d8679dcd\">\n",
              "    <div class=\"colab-df-container\">\n",
              "      <div>\n",
              "<style scoped>\n",
              "    .dataframe tbody tr th:only-of-type {\n",
              "        vertical-align: middle;\n",
              "    }\n",
              "\n",
              "    .dataframe tbody tr th {\n",
              "        vertical-align: top;\n",
              "    }\n",
              "\n",
              "    .dataframe thead th {\n",
              "        text-align: right;\n",
              "    }\n",
              "</style>\n",
              "<table border=\"1\" class=\"dataframe\">\n",
              "  <thead>\n",
              "    <tr style=\"text-align: right;\">\n",
              "      <th></th>\n",
              "      <th>index</th>\n",
              "      <th>text</th>\n",
              "      <th>dep</th>\n",
              "      <th>ent</th>\n",
              "      <th>parent_index</th>\n",
              "      <th>parent</th>\n",
              "      <th>parent_pos</th>\n",
              "      <th>childrens_index</th>\n",
              "    </tr>\n",
              "  </thead>\n",
              "  <tbody>\n",
              "    <tr>\n",
              "      <th>0</th>\n",
              "      <td>0</td>\n",
              "      <td>Fans</td>\n",
              "      <td>nsubj</td>\n",
              "      <td></td>\n",
              "      <td>1</td>\n",
              "      <td>began</td>\n",
              "      <td>VERB</td>\n",
              "      <td>[]</td>\n",
              "    </tr>\n",
              "    <tr>\n",
              "      <th>1</th>\n",
              "      <td>1</td>\n",
              "      <td>began</td>\n",
              "      <td>ROOT</td>\n",
              "      <td></td>\n",
              "      <td>1</td>\n",
              "      <td>began</td>\n",
              "      <td>VERB</td>\n",
              "      <td>[0, 3, 15]</td>\n",
              "    </tr>\n",
              "    <tr>\n",
              "      <th>2</th>\n",
              "      <td>2</td>\n",
              "      <td>to</td>\n",
              "      <td>aux</td>\n",
              "      <td></td>\n",
              "      <td>3</td>\n",
              "      <td>gather</td>\n",
              "      <td>VERB</td>\n",
              "      <td>[]</td>\n",
              "    </tr>\n",
              "    <tr>\n",
              "      <th>3</th>\n",
              "      <td>3</td>\n",
              "      <td>gather</td>\n",
              "      <td>xcomp</td>\n",
              "      <td></td>\n",
              "      <td>1</td>\n",
              "      <td>began</td>\n",
              "      <td>VERB</td>\n",
              "      <td>[2, 4, 9]</td>\n",
              "    </tr>\n",
              "    <tr>\n",
              "      <th>4</th>\n",
              "      <td>4</td>\n",
              "      <td>outside</td>\n",
              "      <td>prep</td>\n",
              "      <td></td>\n",
              "      <td>3</td>\n",
              "      <td>gather</td>\n",
              "      <td>VERB</td>\n",
              "      <td>[6]</td>\n",
              "    </tr>\n",
              "    <tr>\n",
              "      <th>5</th>\n",
              "      <td>5</td>\n",
              "      <td>the</td>\n",
              "      <td>det</td>\n",
              "      <td>TIME</td>\n",
              "      <td>6</td>\n",
              "      <td>stadium</td>\n",
              "      <td>NOUN</td>\n",
              "      <td>[]</td>\n",
              "    </tr>\n",
              "    <tr>\n",
              "      <th>6</th>\n",
              "      <td>6</td>\n",
              "      <td>stadium</td>\n",
              "      <td>pobj</td>\n",
              "      <td>TIME</td>\n",
              "      <td>4</td>\n",
              "      <td>outside</td>\n",
              "      <td>ADP</td>\n",
              "      <td>[5]</td>\n",
              "    </tr>\n",
              "    <tr>\n",
              "      <th>7</th>\n",
              "      <td>7</td>\n",
              "      <td>three</td>\n",
              "      <td>nummod</td>\n",
              "      <td>TIME</td>\n",
              "      <td>8</td>\n",
              "      <td>hours</td>\n",
              "      <td>NOUN</td>\n",
              "      <td>[]</td>\n",
              "    </tr>\n",
              "    <tr>\n",
              "      <th>8</th>\n",
              "      <td>8</td>\n",
              "      <td>hours</td>\n",
              "      <td>npadvmod</td>\n",
              "      <td>TIME</td>\n",
              "      <td>9</td>\n",
              "      <td>before</td>\n",
              "      <td>ADP</td>\n",
              "      <td>[7]</td>\n",
              "    </tr>\n",
              "    <tr>\n",
              "      <th>9</th>\n",
              "      <td>9</td>\n",
              "      <td>before</td>\n",
              "      <td>prep</td>\n",
              "      <td></td>\n",
              "      <td>3</td>\n",
              "      <td>gather</td>\n",
              "      <td>VERB</td>\n",
              "      <td>[8, 11]</td>\n",
              "    </tr>\n",
              "    <tr>\n",
              "      <th>10</th>\n",
              "      <td>10</td>\n",
              "      <td>the</td>\n",
              "      <td>det</td>\n",
              "      <td></td>\n",
              "      <td>11</td>\n",
              "      <td>start</td>\n",
              "      <td>NOUN</td>\n",
              "      <td>[]</td>\n",
              "    </tr>\n",
              "    <tr>\n",
              "      <th>11</th>\n",
              "      <td>11</td>\n",
              "      <td>start</td>\n",
              "      <td>pobj</td>\n",
              "      <td></td>\n",
              "      <td>9</td>\n",
              "      <td>before</td>\n",
              "      <td>ADP</td>\n",
              "      <td>[10, 12]</td>\n",
              "    </tr>\n",
              "    <tr>\n",
              "      <th>12</th>\n",
              "      <td>12</td>\n",
              "      <td>of</td>\n",
              "      <td>prep</td>\n",
              "      <td></td>\n",
              "      <td>11</td>\n",
              "      <td>start</td>\n",
              "      <td>NOUN</td>\n",
              "      <td>[14]</td>\n",
              "    </tr>\n",
              "    <tr>\n",
              "      <th>13</th>\n",
              "      <td>13</td>\n",
              "      <td>the</td>\n",
              "      <td>det</td>\n",
              "      <td></td>\n",
              "      <td>14</td>\n",
              "      <td>match</td>\n",
              "      <td>NOUN</td>\n",
              "      <td>[]</td>\n",
              "    </tr>\n",
              "    <tr>\n",
              "      <th>14</th>\n",
              "      <td>14</td>\n",
              "      <td>match</td>\n",
              "      <td>pobj</td>\n",
              "      <td></td>\n",
              "      <td>12</td>\n",
              "      <td>of</td>\n",
              "      <td>ADP</td>\n",
              "      <td>[13]</td>\n",
              "    </tr>\n",
              "    <tr>\n",
              "      <th>15</th>\n",
              "      <td>15</td>\n",
              "      <td>.</td>\n",
              "      <td>punct</td>\n",
              "      <td></td>\n",
              "      <td>1</td>\n",
              "      <td>began</td>\n",
              "      <td>VERB</td>\n",
              "      <td>[]</td>\n",
              "    </tr>\n",
              "  </tbody>\n",
              "</table>\n",
              "</div>\n",
              "      <button class=\"colab-df-convert\" onclick=\"convertToInteractive('df-0b1dcb9e-b5fe-460d-a714-d666d8679dcd')\"\n",
              "              title=\"Convert this dataframe to an interactive table.\"\n",
              "              style=\"display:none;\">\n",
              "        \n",
              "  <svg xmlns=\"http://www.w3.org/2000/svg\" height=\"24px\"viewBox=\"0 0 24 24\"\n",
              "       width=\"24px\">\n",
              "    <path d=\"M0 0h24v24H0V0z\" fill=\"none\"/>\n",
              "    <path d=\"M18.56 5.44l.94 2.06.94-2.06 2.06-.94-2.06-.94-.94-2.06-.94 2.06-2.06.94zm-11 1L8.5 8.5l.94-2.06 2.06-.94-2.06-.94L8.5 2.5l-.94 2.06-2.06.94zm10 10l.94 2.06.94-2.06 2.06-.94-2.06-.94-.94-2.06-.94 2.06-2.06.94z\"/><path d=\"M17.41 7.96l-1.37-1.37c-.4-.4-.92-.59-1.43-.59-.52 0-1.04.2-1.43.59L10.3 9.45l-7.72 7.72c-.78.78-.78 2.05 0 2.83L4 21.41c.39.39.9.59 1.41.59.51 0 1.02-.2 1.41-.59l7.78-7.78 2.81-2.81c.8-.78.8-2.07 0-2.86zM5.41 20L4 18.59l7.72-7.72 1.47 1.35L5.41 20z\"/>\n",
              "  </svg>\n",
              "      </button>\n",
              "      \n",
              "  <style>\n",
              "    .colab-df-container {\n",
              "      display:flex;\n",
              "      flex-wrap:wrap;\n",
              "      gap: 12px;\n",
              "    }\n",
              "\n",
              "    .colab-df-convert {\n",
              "      background-color: #E8F0FE;\n",
              "      border: none;\n",
              "      border-radius: 50%;\n",
              "      cursor: pointer;\n",
              "      display: none;\n",
              "      fill: #1967D2;\n",
              "      height: 32px;\n",
              "      padding: 0 0 0 0;\n",
              "      width: 32px;\n",
              "    }\n",
              "\n",
              "    .colab-df-convert:hover {\n",
              "      background-color: #E2EBFA;\n",
              "      box-shadow: 0px 1px 2px rgba(60, 64, 67, 0.3), 0px 1px 3px 1px rgba(60, 64, 67, 0.15);\n",
              "      fill: #174EA6;\n",
              "    }\n",
              "\n",
              "    [theme=dark] .colab-df-convert {\n",
              "      background-color: #3B4455;\n",
              "      fill: #D2E3FC;\n",
              "    }\n",
              "\n",
              "    [theme=dark] .colab-df-convert:hover {\n",
              "      background-color: #434B5C;\n",
              "      box-shadow: 0px 1px 3px 1px rgba(0, 0, 0, 0.15);\n",
              "      filter: drop-shadow(0px 1px 2px rgba(0, 0, 0, 0.3));\n",
              "      fill: #FFFFFF;\n",
              "    }\n",
              "  </style>\n",
              "\n",
              "      <script>\n",
              "        const buttonEl =\n",
              "          document.querySelector('#df-0b1dcb9e-b5fe-460d-a714-d666d8679dcd button.colab-df-convert');\n",
              "        buttonEl.style.display =\n",
              "          google.colab.kernel.accessAllowed ? 'block' : 'none';\n",
              "\n",
              "        async function convertToInteractive(key) {\n",
              "          const element = document.querySelector('#df-0b1dcb9e-b5fe-460d-a714-d666d8679dcd');\n",
              "          const dataTable =\n",
              "            await google.colab.kernel.invokeFunction('convertToInteractive',\n",
              "                                                     [key], {});\n",
              "          if (!dataTable) return;\n",
              "\n",
              "          const docLinkHtml = 'Like what you see? Visit the ' +\n",
              "            '<a target=\"_blank\" href=https://colab.research.google.com/notebooks/data_table.ipynb>data table notebook</a>'\n",
              "            + ' to learn more about interactive tables.';\n",
              "          element.innerHTML = '';\n",
              "          dataTable['output_type'] = 'display_data';\n",
              "          await google.colab.output.renderOutput(dataTable, element);\n",
              "          const docLink = document.createElement('div');\n",
              "          docLink.innerHTML = docLinkHtml;\n",
              "          element.appendChild(docLink);\n",
              "        }\n",
              "      </script>\n",
              "    </div>\n",
              "  </div>\n",
              "  "
            ]
          },
          "metadata": {},
          "execution_count": 439
        }
      ]
    },
    {
      "cell_type": "markdown",
      "source": [
        "Создадим класс для поиска информации о встрече на основе данных, которые можно получить из свойств токена в Spacy."
      ],
      "metadata": {
        "id": "lbplLQFgih8C"
      }
    },
    {
      "cell_type": "code",
      "source": [
        "class EventExtractor:\n",
        "  def __init__(self, doc):\n",
        "    self.doc = doc\n",
        "    self.roots = [token for token in self.doc if token.head == token] # roots - корневые токены, те в которые не входит ни одной зависимости, только исходят\n",
        "\n",
        "    self.features = []\n",
        "    for i in range(len(self.roots)):\n",
        "      self.features.append({'TIME':[],\n",
        "                      'LOC': []})\n",
        "  \n",
        "  def extract(self):\n",
        "    \"\"\"\n",
        "    Метод для извлечения информации\n",
        "    \"\"\"\n",
        "    for r_i, root in enumerate(self.roots):\n",
        "      self.root_i = r_i\n",
        "      self.check_childrens(root, go_deeper=True)\n",
        "\n",
        "\n",
        "  def check_childrens(self, token, go_deeper=False):\n",
        "    \"\"\"\n",
        "    Метод для итеративной проверки дочерних токенов.\n",
        "    \"\"\"\n",
        "    for child in token.children:\n",
        "      if child.dep_ in ['prep', 'npadvmod', 'advmod']:\n",
        "        self.check_descendants(child)\n",
        "      if go_deeper and (self.features[self.root_i]['TIME'] is not None and self.features[self.root_i]['LOC'] is not None):\n",
        "        self.check_childrens(child)\n",
        "\n",
        "\n",
        "  def check_descendants(self, token):\n",
        "    \"\"\"\n",
        "    Метод для итеративной провери всех предков, включая сам токен\n",
        "    \"\"\"\n",
        "    for child in token.subtree:\n",
        "      if self.search_for_loc(child, token):\n",
        "        break\n",
        "    for child in token.subtree:\n",
        "      if self.search_for_time(child, token):\n",
        "        break\n",
        "\n",
        "            \n",
        "  def search_for_time(self, token, ancestor):\n",
        "    \"\"\"\n",
        "    Извлечение информации о времени.\n",
        "    \"\"\"\n",
        "    # если условие выполняется, извлекается не только токен, но и все дочерние сущности ближайшего предка \n",
        "    if token.ent_type_ in ['TIME', 'DATE'] or token.dep_ in ['npadvmod', 'nummod', 'nummod'] or token.pos_ == 'NUM' or token.text in ['pm', 'am']:\n",
        "      subtree = [t.text for t in ancestor.subtree]\n",
        "      if self.features[self.root_i]['TIME'][-len(subtree):] != subtree: # чтобы информация не дулировалась\n",
        "        self.features[self.root_i]['TIME'].extend(subtree)\n",
        "        return True\n",
        "    return False\n",
        "\n",
        "  def search_for_loc(self, token, ancestor):\n",
        "    \"\"\"\n",
        "    Извлечение информации о месте.\n",
        "    \"\"\" \n",
        "    if token.ent_type_ in ['LOC', 'GPE', 'FAC']:\n",
        "        self.features[self.root_i]['LOC'].extend([t.text for t in ancestor.subtree]) \n",
        "        return True\n",
        "    childrens_index = [child.i for child in token.children]\n",
        "    if childrens_index != []:\n",
        "      if ancestor.pos_ == 'ADP' and ancestor.text not in ['as', 'for'] and doc[childrens_index[0]].pos_ == 'DET' and not np.any([child.ent_type_ in ['TIME', 'DATE'] for child in ancestor.subtree]):\n",
        "          self.features[self.root_i]['LOC'].extend([t.text for t in ancestor.subtree])\n",
        "          return True\n",
        "    return False  \n",
        "\n",
        "  \n",
        "  def display_info(self):\n",
        "    \"\"\"\n",
        "    Вывод информации в удобном формате\n",
        "    \"\"\"\n",
        "    print(\"================================================================\")\n",
        "    print(\"SENTENCE:\", self.doc.text)\n",
        "    for info_set in self.features:\n",
        "      print(\"----------------------------------------------------------------\")\n",
        "      if info_set['TIME'] == [] and info_set['LOC'] == []:\n",
        "        print(\"This sentence does't have a meeting info.\")\n",
        "        continue\n",
        "      print(\"MEETING EVENT\")\n",
        "      time = (\" \").join(info_set['TIME']).capitalize()\n",
        "      loc = (\" \").join(info_set['LOC']).capitalize()\n",
        "      print(\"WHEN:\", time if time!=\"\" else \"Unknown\")\n",
        "      print(\"WHERE:\", loc if loc!=\"\" else \"Unknown\")\n",
        "    print(\" \")"
      ],
      "metadata": {
        "id": "oe9MeuDOj_mf"
      },
      "execution_count": 445,
      "outputs": []
    },
    {
      "cell_type": "markdown",
      "source": [
        "Проверим модель на случайной выборке из датасета. Для этой модели не нужны обучающие данные (при условии что модели Spacy (PoS tagger, NER  и др.) можно использовать обученными по умолчанию). Это одно из преимуществ Rule-Based моделей"
      ],
      "metadata": {
        "id": "8MOYomteoG0k"
      }
    },
    {
      "cell_type": "code",
      "source": [
        "full_dataset = train_dataset+test_dataset\n",
        "\n",
        "random.seed(2)\n",
        "sample_dataset = random.sample(full_dataset, 10)"
      ],
      "metadata": {
        "id": "251xbTP4Ztn6"
      },
      "execution_count": 441,
      "outputs": []
    },
    {
      "cell_type": "code",
      "source": [
        "for text in sample_dataset:\n",
        "  # displacy.render(doc, style='dep', jupyter=True)\n",
        "  # displacy.render(doc, style='ent', jupyter=True)\n",
        "  text = re.sub(r'\\xa0', ' ', text)\n",
        "  doc = classic_nlp(text)\n",
        "  extr_obj = EventExtractor(doc)\n",
        "  extr_obj.extract()\n",
        "  extr_obj.display_info()"
      ],
      "metadata": {
        "id": "FqUutru_m3TM",
        "colab": {
          "base_uri": "https://localhost:8080/"
        },
        "outputId": "dc98dd87-8d02-4421-9bbe-fab8dca5e15a"
      },
      "execution_count": 447,
      "outputs": [
        {
          "output_type": "stream",
          "name": "stdout",
          "text": [
            "================================================================\n",
            "SENTENCE: I am very glad to announce that next Friday the 27th of March we will have special guests with us who will present their best practices with us.\n",
            "----------------------------------------------------------------\n",
            "This sentence does't have a meeting info.\n",
            " \n",
            "================================================================\n",
            "SENTENCE: In ice hockey, the Colorado Avalanche defeat the Tampa Bay Lightning to win the Stanley Cup (Conn Smythe Trophy winner Cale Makar pictured)\n",
            "----------------------------------------------------------------\n",
            "This sentence does't have a meeting info.\n",
            " \n",
            "================================================================\n",
            "SENTENCE: Mary’s attorney issues a subpoena ad testificandum to one of Mary’s co-workers, who she says witnessed her supervisor’s sexual advances on more than one occasion. The co-worker is required to attend a deposition on May 25th, at 9:00 a.m., at the office of her attorney to give testimony.\n",
            "----------------------------------------------------------------\n",
            "MEETING EVENT\n",
            "WHEN: To one of mary ’s co - workers ,\n",
            "WHERE: Unknown\n",
            "----------------------------------------------------------------\n",
            "MEETING EVENT\n",
            "WHEN: On may 25th at 9:00 a.m.\n",
            "WHERE: At the office of her attorney\n",
            " \n",
            "================================================================\n",
            "SENTENCE:  Both events took place in St.Petersburg and gathered the representatives of world-famous companies specializing on sea oil and gas extraction.\n",
            "----------------------------------------------------------------\n",
            "MEETING EVENT\n",
            "WHEN: Unknown\n",
            "WHERE: In st. petersburg\n",
            " \n",
            "================================================================\n",
            "SENTENCE: More than 100 meetings with elected officials were held on the second day, touching on issues such as online-booking scams, safety and security, travel facilitation and investment in infrastructure.\n",
            "----------------------------------------------------------------\n",
            "MEETING EVENT\n",
            "WHEN: On the second day\n",
            "WHERE: Unknown\n",
            " \n",
            "================================================================\n",
            "SENTENCE: Sat 14 May 15.30 Let’s extend the spring  fairy tale -after an excursion in Old Kolomenskoye, I invite you possible to- nearby  🌟 Wooden Palace of Tsar Alexei Mikhailovich.\n",
            "----------------------------------------------------------------\n",
            "This sentence does't have a meeting info.\n",
            "----------------------------------------------------------------\n",
            "This sentence does't have a meeting info.\n",
            " \n",
            "================================================================\n",
            "SENTENCE: The burial ceremony will take place at 07:00 local time (12:00 p.m. GMT) on December 4 at the cemetery of Santa Ifigenia.\n",
            "----------------------------------------------------------------\n",
            "MEETING EVENT\n",
            "WHEN: At 07:00 local time ( 12:00 p.m. gmt ) on december 4\n",
            "WHERE: At the cemetery of santa ifigenia\n",
            " \n",
            "================================================================\n",
            "SENTENCE: An 1874 speaking event in Manchester organised by Becker, was attended by 14-year-old Emmeline Goulden, who was to become an ardent campaigner for women's rights, and later married Dr Pankhurst becoming known as Emmeline Pankhurst.\n",
            "----------------------------------------------------------------\n",
            "This sentence does't have a meeting info.\n",
            " \n",
            "================================================================\n",
            "SENTENCE: On January 23, Belmont University hosted a Curb Seminar showing of “Ballad of the Dreadnought,” a Martin Guitars documentary, and made a special announcement from Martin Guitars for songwriting majors.\n",
            "----------------------------------------------------------------\n",
            "MEETING EVENT\n",
            "WHEN: On january 23\n",
            "WHERE: Of “ ballad of the dreadnought , ” a martin guitars documentary\n",
            " \n",
            "================================================================\n",
            "SENTENCE: Once a year we all come together and celebrate our family.\n",
            "----------------------------------------------------------------\n",
            "MEETING EVENT\n",
            "WHEN: Once a year\n",
            "WHERE: Unknown\n",
            " \n"
          ]
        }
      ]
    },
    {
      "cell_type": "markdown",
      "source": [
        "Эта модель справилась с задачей гораздо лучше, чем передудущая:\n",
        "- В некоторых предложениях они отпределила абсолютно точно и время, и локацию. Например, `WHEN: In 1970`; `WHERE: In new york city`\n",
        "- В некоторых предложениях нашла все компоненты времени: дата, время, и даже продолжительность и часовой пояс! Например, `WHEN: On saturday , november 13 from 10:00 to 20:00 moscow time`\n",
        "- В некоторых предложениях нашла даже сложные конструкции. Например, `WHERE: At the cemetery of santa ifigenia`"
      ],
      "metadata": {
        "id": "kZVxz_MZn7i0"
      }
    },
    {
      "cell_type": "markdown",
      "source": [
        "Однако модель иногда все же допускает ошибки:\n",
        "- Путает дату и локацию\n",
        "- Извлекает сущьности лишь  частично\n",
        "\n",
        "Большинсво этих ошибок связано со сложной структурой предложений. Так как наша модель во многом опирается на результаты модели Spacy, предсказыающей связи между словами, то в случае некорректного предсказания можно получить неожидааемый результат."
      ],
      "metadata": {
        "id": "AhjRfwcLqRYf"
      }
    },
    {
      "cell_type": "markdown",
      "source": [
        "Дальнейшее уточнение модели `EventExtractor` и улучшение качества моделей Spacy, гарантированно приведёт к более точному извлечению информации в будущем."
      ],
      "metadata": {
        "id": "Z52wvT8IsJ_R"
      }
    }
  ]
}